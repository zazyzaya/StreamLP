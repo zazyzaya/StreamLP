{
 "cells": [
  {
   "cell_type": "code",
   "execution_count": 1,
   "metadata": {},
   "outputs": [
    {
     "name": "stdout",
     "output_type": "stream",
     "text": [
      "/home/ead/iking5/code/StreamLP\n"
     ]
    }
   ],
   "source": [
    "%cd .."
   ]
  },
  {
   "cell_type": "code",
   "execution_count": 52,
   "metadata": {},
   "outputs": [],
   "source": [
    "import torch \n",
    "import matplotlib.pyplot as plt \n",
    "from torch_geometric.nn import MessagePassing \n",
    "from sklearn.decomposition import PCA\n",
    "from sklearn.ensemble import RandomForestClassifier\n",
    "from sklearn.manifold import TSNE\n",
    "from sklearn.metrics import accuracy_score, precision_score, recall_score\n",
    "from math import ceil"
   ]
  },
  {
   "cell_type": "code",
   "execution_count": 62,
   "metadata": {},
   "outputs": [
    {
     "name": "stdout",
     "output_type": "stream",
     "text": [
      "mean\n",
      "d\tAccuracy\t\tPrecision\t\tRecall\n",
      "2\t0.9508365097117294\t0.9899055036087204\t0.9109624997146966\n",
      "4\t0.9587451213110264\t0.9913219908086438\t0.9255928605664985\n",
      "8\t0.9507223883322301\t0.9843516224767604\t0.9160066646885627\n",
      "16\t0.9417182114897404\t0.9685502614758861\t0.9130851573733824\n",
      "\n",
      "sum\n",
      "d\tAccuracy\t\tPrecision\t\tRecall\n",
      "2\t0.9400748636249515\t0.9685540704738761\t0.9096843402643051\n",
      "4\t0.9323716705087531\t0.9585582532497398\t0.9038185013580444\n",
      "8\t0.925524387738799\t0.9487543627391984\t0.8996416588683724\n",
      "16\t"
     ]
    }
   ],
   "source": [
    "def test_nonparam_lp(d, aggr='mean', dataset='digg'):\n",
    "    g = torch.load(f'StrGNN_Data/{dataset}.pt')\n",
    "\n",
    "    rnd_x = torch.eye(d).repeat(\n",
    "        ceil(g.num_nodes / d), 1\n",
    "    )[:g.num_nodes]\n",
    "    rnd_x = rnd_x[torch.randperm(rnd_x.size(0))]\n",
    "    \n",
    "    #rnd_x = torch.rand(g.num_nodes,d)\n",
    "\n",
    "    ei = g.edge_index[:, g.edge_index.size(1)//2:]\n",
    "    te_ei = g.edge_index[:, :g.edge_index.size(1)//2]\n",
    "\n",
    "    mp = MessagePassing(aggr=aggr)\n",
    "    one_hop = torch.cat([\n",
    "        mp.propagate(g.edge_index, size=None, x=rnd_x),\n",
    "        mp.propagate(g.edge_index[[1,0]], size=None, x=rnd_x),\n",
    "    ], dim=1)\n",
    "    two_hops = torch.cat([\n",
    "        mp.propagate(g.edge_index, size=None, x=one_hop),\n",
    "        mp.propagate(g.edge_index[[1,0]], size=None, x=one_hop),\n",
    "    ], dim=1)\n",
    "    three_hops = torch.cat([\n",
    "        mp.propagate(g.edge_index, size=None, x=two_hops),\n",
    "        mp.propagate(g.edge_index[[1,0]], size=None, x=two_hops),\n",
    "    ], dim=1)\n",
    "\n",
    "    x = torch.cat([one_hop,two_hops,three_hops], dim=1)\n",
    "    edges = torch.cat([x[ei[0]], x[ei[1]]], dim=1)\n",
    "    fake = torch.cat([\n",
    "        x[torch.randint(0, g.num_nodes, (edges.size(0),))], \n",
    "        x[torch.randint(0, g.num_nodes, (edges.size(0),))]\n",
    "    ], dim=1)\n",
    "\n",
    "    y = torch.ones(edges.size(0)*2)\n",
    "    y[:y.size(0)//2] = 0\n",
    "    rf = RandomForestClassifier(n_jobs=16)\n",
    "    rf.fit(torch.cat([edges, fake], dim=0), y)\n",
    "\n",
    "    te_edges = torch.cat([x[te_ei[0]], x[te_ei[1]]], dim=1)\n",
    "    te_fake = torch.cat([\n",
    "        x[torch.randint(0, g.num_nodes, (te_edges.size(0),))], \n",
    "        x[torch.randint(0, g.num_nodes, (te_edges.size(0),))]\n",
    "    ], dim=1)\n",
    "\n",
    "    y_hat = rf.predict(torch.cat([te_edges, te_fake], dim=0))\n",
    "    labels = torch.ones(te_edges.size(0)*2)\n",
    "    labels[:labels.size(0)//2] = 0 \n",
    "\n",
    "    print(\n",
    "        accuracy_score(labels, y_hat),\n",
    "        precision_score(labels, y_hat),\n",
    "        recall_score(labels, y_hat),\n",
    "        sep='\\t'\n",
    "    )\n",
    "\n",
    "\n",
    "for a in ['mean', 'sum', 'max']:\n",
    "    print(a)\n",
    "    print(\"d\\tAccuracy\\t\\tPrecision\\t\\tRecall\")\n",
    "    for d in [2,4,8,16]:\n",
    "        print(str(d)+'\\t', end='')\n",
    "        test_nonparam_lp(d, aggr=a)\n",
    "\n",
    "    print()"
   ]
  },
  {
   "cell_type": "code",
   "execution_count": 51,
   "metadata": {},
   "outputs": [
    {
     "data": {
      "text/plain": [
       "tensor([[  0,  50,  90, 123,  33, 151, 116, 128, 175, 175, 151, 189, 151, 230,\n",
       "         244, 246, 268, 324, 226,  50, 360, 391, 388, 196, 309],\n",
       "        [  1,  51,  91, 124,  34, 152, 117, 163, 176, 151, 233, 190, 267, 231,\n",
       "         245, 245, 267, 325, 151, 360, 360, 392, 389, 360, 310]])"
      ]
     },
     "execution_count": 51,
     "metadata": {},
     "output_type": "execute_result"
    }
   ],
   "source": [
    "g.edge_index[:,:25]"
   ]
  }
 ],
 "metadata": {
  "kernelspec": {
   "display_name": "contagion",
   "language": "python",
   "name": "python3"
  },
  "language_info": {
   "codemirror_mode": {
    "name": "ipython",
    "version": 3
   },
   "file_extension": ".py",
   "mimetype": "text/x-python",
   "name": "python",
   "nbconvert_exporter": "python",
   "pygments_lexer": "ipython3",
   "version": "3.10.9"
  },
  "orig_nbformat": 4
 },
 "nbformat": 4,
 "nbformat_minor": 2
}
