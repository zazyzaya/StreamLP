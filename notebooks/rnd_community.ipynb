{
 "cells": [
  {
   "cell_type": "code",
   "execution_count": 1,
   "metadata": {},
   "outputs": [
    {
     "name": "stdout",
     "output_type": "stream",
     "text": [
      "/home/ead/iking5/code/StreamLP\n"
     ]
    }
   ],
   "source": [
    "%cd .."
   ]
  },
  {
   "cell_type": "code",
   "execution_count": 52,
   "metadata": {},
   "outputs": [],
   "source": [
    "import torch \n",
    "import matplotlib.pyplot as plt \n",
    "from torch_geometric.nn import MessagePassing \n",
    "from sklearn.decomposition import PCA\n",
    "from sklearn.ensemble import RandomForestClassifier\n",
    "from sklearn.manifold import TSNE\n",
    "from sklearn.metrics import accuracy_score, precision_score, recall_score\n",
    "from math import ceil"
   ]
  },
  {
   "cell_type": "code",
   "execution_count": 65,
   "metadata": {},
   "outputs": [
    {
     "name": "stdout",
     "output_type": "stream",
     "text": [
      "mean\n",
      "d\tAccuracy\t\tPrecision\t\tRecall\n",
      "2\t0.6289913952479858\t0.5951414959344119\t0.8068838016113938\n",
      "4\t0.6315248898728688\t0.5973839420005745\t0.8068153287836943\n",
      "8\t0.6314450049072193\t0.5975473423896474\t0.8051948051948052\n",
      "16\t0.6315134777349188\t0.5977670693633772\t0.8040992399516126\n",
      "32\t0.6304635610435259\t0.5972704376829351\t0.8010864355328328\n",
      "64\t0.6324949215986123\t0.5982299986462705\t0.8069066258872937\n",
      "128\t0.6290142195238856\t0.5956899324541653\t0.803140620363819\n",
      "\n",
      "sum\n",
      "d\tAccuracy\t\tPrecision\t\tRecall\n",
      "2\t0.62238376737498\t0.5878411585465745\t0.8190034921142126\n",
      "4\t0.6239129938602698\t0.5893015758134026\t0.8177025083879214\n",
      "8\t0.6231940291694246\t0.5887119307069014\t0.8175427384566225\n",
      "16\t0.623273914135074\t0.589107767438791\t0.8149864195558396\n",
      "32\t0.623582041859722\t0.5898388889810682\t0.8113801839636637\n",
      "64\t0.6237874603428206\t0.5896342571933826\t0.8143016912788442\n",
      "128\t0.6245406614475156\t0.5903229544288292\t0.8139593271403465\n",
      "\n",
      "max\n",
      "d\tAccuracy\t\tPrecision\t\tRecall\n",
      "2\t0.6183324584027572\t0.5852223226760911\t0.8125898705863557\n",
      "4\t0.621641978408235\t0.5876980796761613\t0.8151690137630384\n",
      "8\t0.6241640608951681\t0.5896949711459192\t0.8163102275580307\n",
      "16\t0.6228288407550271\t0.5895707461593516\t0.8084815009243832\n",
      "32\t0.6257161116563577\t0.5929243850592165\t0.8021591765001256\n",
      "64\t0.6262981306918038\t0.592730380574129\t0.8072946385775911\n",
      "128\t0.6300070755255289\t0.5959665734407117\t0.8073631114052907\n",
      "\n"
     ]
    }
   ],
   "source": [
    "def test_nonparam_lp(d, aggr='mean', dataset='digg'):\n",
    "    g = torch.load(f'StrGNN_Data/{dataset}.pt')\n",
    "\n",
    "    rnd_x = torch.eye(d).repeat(\n",
    "        ceil(g.num_nodes / d), 1\n",
    "    )[:g.num_nodes]\n",
    "    rnd_x = rnd_x[torch.randperm(rnd_x.size(0))]\n",
    "    \n",
    "    rnd_x = torch.rand(g.num_nodes,d)\n",
    "\n",
    "    ei = g.edge_index[:, g.edge_index.size(1)//2:]\n",
    "    te_ei = g.edge_index[:, :g.edge_index.size(1)//2]\n",
    "\n",
    "    mp = MessagePassing(aggr=aggr)\n",
    "    one_hop = mp.propagate(ei, size=None, x=rnd_x)\n",
    "    two_hops = mp.propagate(ei, size=None, x=one_hop)\n",
    "    three_hops = mp.propagate(ei, size=None, x=two_hops)\n",
    "\n",
    "    x = torch.cat([one_hop,two_hops,three_hops], dim=1)\n",
    "    edges = torch.cat([x[ei[0]], x[ei[1]]], dim=1)\n",
    "    fake = torch.cat([\n",
    "        x[torch.randint(0, g.num_nodes, (edges.size(0),))], \n",
    "        x[torch.randint(0, g.num_nodes, (edges.size(0),))]\n",
    "    ], dim=1)\n",
    "\n",
    "    y = torch.ones(edges.size(0)*2)\n",
    "    y[:y.size(0)//2] = 0\n",
    "    rf = RandomForestClassifier(n_jobs=16)\n",
    "    rf.fit(torch.cat([edges, fake], dim=0), y)\n",
    "\n",
    "    te_edges = torch.cat([x[te_ei[0]], x[te_ei[1]]], dim=1)\n",
    "    te_fake = torch.cat([\n",
    "        x[torch.randint(0, g.num_nodes, (te_edges.size(0),))], \n",
    "        x[torch.randint(0, g.num_nodes, (te_edges.size(0),))]\n",
    "    ], dim=1)\n",
    "\n",
    "    y_hat = rf.predict(torch.cat([te_edges, te_fake], dim=0))\n",
    "    labels = torch.ones(te_edges.size(0)*2)\n",
    "    labels[:labels.size(0)//2] = 0 \n",
    "\n",
    "    print(\n",
    "        accuracy_score(labels, y_hat),\n",
    "        precision_score(labels, y_hat),\n",
    "        recall_score(labels, y_hat),\n",
    "        sep='\\t'\n",
    "    )\n",
    "\n",
    "\n",
    "for a in ['mean', 'sum', 'max']:\n",
    "    print(a)\n",
    "    print(\"d\\tAccuracy\\t\\tPrecision\\t\\tRecall\")\n",
    "    for d in [2,4,8,16,32,64,128]:\n",
    "        print(str(d)+'\\t', end='')\n",
    "        test_nonparam_lp(d, aggr=a)\n",
    "\n",
    "    print()"
   ]
  },
  {
   "cell_type": "code",
   "execution_count": 51,
   "metadata": {},
   "outputs": [
    {
     "data": {
      "text/plain": [
       "tensor([[  0,  50,  90, 123,  33, 151, 116, 128, 175, 175, 151, 189, 151, 230,\n",
       "         244, 246, 268, 324, 226,  50, 360, 391, 388, 196, 309],\n",
       "        [  1,  51,  91, 124,  34, 152, 117, 163, 176, 151, 233, 190, 267, 231,\n",
       "         245, 245, 267, 325, 151, 360, 360, 392, 389, 360, 310]])"
      ]
     },
     "execution_count": 51,
     "metadata": {},
     "output_type": "execute_result"
    }
   ],
   "source": [
    "g.edge_index[:,:25]"
   ]
  }
 ],
 "metadata": {
  "kernelspec": {
   "display_name": "contagion",
   "language": "python",
   "name": "python3"
  },
  "language_info": {
   "codemirror_mode": {
    "name": "ipython",
    "version": 3
   },
   "file_extension": ".py",
   "mimetype": "text/x-python",
   "name": "python",
   "nbconvert_exporter": "python",
   "pygments_lexer": "ipython3",
   "version": "3.10.9"
  },
  "orig_nbformat": 4
 },
 "nbformat": 4,
 "nbformat_minor": 2
}
