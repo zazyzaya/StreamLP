{
 "cells": [
  {
   "cell_type": "code",
   "execution_count": 1,
   "metadata": {},
   "outputs": [
    {
     "name": "stdout",
     "output_type": "stream",
     "text": [
      "/home/ead/iking5/code/StreamLP\n"
     ]
    }
   ],
   "source": [
    "%cd .."
   ]
  },
  {
   "cell_type": "code",
   "execution_count": 12,
   "metadata": {},
   "outputs": [
    {
     "name": "stdout",
     "output_type": "stream",
     "text": [
      "tensor(1.1671e+08) tensor(76107.)\n",
      "tensor(0.) tensor(-3.4028e+38)\n"
     ]
    }
   ],
   "source": [
    "import matplotlib.pyplot as plt \n",
    "from sklearn.decomposition import PCA\n",
    "import torch\n",
    "\n",
    "indi = torch.load('lanl-data/indipendant/1391.pt')\n",
    "cont = torch.load('lanl-data/continuous/1391.pt')\n",
    "\n",
    "print(cont.max(), indi.max())\n",
    "print(cont.min(), indi.min())"
   ]
  },
  {
   "cell_type": "code",
   "execution_count": 17,
   "metadata": {},
   "outputs": [
    {
     "data": {
      "text/plain": [
       "tensor([[3.1497e-01, 6.8503e-01, 3.3959e-03,  ..., 9.1406e-01, 0.0000e+00,\n",
       "         2.1133e-05],\n",
       "        [8.6343e-01, 1.3657e-01, 9.0961e-01,  ..., 2.0763e-02, 0.0000e+00,\n",
       "         2.7839e-07],\n",
       "        [9.2706e-01, 7.2943e-02, 1.2561e-02,  ..., 3.8242e-04, 0.0000e+00,\n",
       "         4.4218e-08],\n",
       "        ...,\n",
       "        [2.5000e-01, 7.5000e-01, 0.0000e+00,  ..., 4.1260e-02, 0.0000e+00,\n",
       "         7.2079e-05],\n",
       "        [0.0000e+00, 1.0000e+00, 0.0000e+00,  ..., 1.1826e-04, 0.0000e+00,\n",
       "         0.0000e+00],\n",
       "        [2.5641e-02, 9.7436e-01, 0.0000e+00,  ..., 3.4828e-03, 0.0000e+00,\n",
       "         1.4659e-07]])"
      ]
     },
     "execution_count": 17,
     "metadata": {},
     "output_type": "execute_result"
    }
   ],
   "source": [
    "cont_sliced"
   ]
  }
 ],
 "metadata": {
  "kernelspec": {
   "display_name": "contagion",
   "language": "python",
   "name": "python3"
  },
  "language_info": {
   "codemirror_mode": {
    "name": "ipython",
    "version": 3
   },
   "file_extension": ".py",
   "mimetype": "text/x-python",
   "name": "python",
   "nbconvert_exporter": "python",
   "pygments_lexer": "ipython3",
   "version": "3.10.9"
  },
  "orig_nbformat": 4
 },
 "nbformat": 4,
 "nbformat_minor": 2
}
